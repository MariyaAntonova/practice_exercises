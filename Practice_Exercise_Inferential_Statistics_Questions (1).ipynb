{
  "cells": [
    {
      "cell_type": "markdown",
      "metadata": {
        "id": "XeV1U7GkVNZY"
      },
      "source": [
        "## **Importing necessary libraries**"
      ]
    },
    {
      "cell_type": "code",
      "execution_count": 1,
      "metadata": {
        "id": "219CEYUFVNZn"
      },
      "outputs": [],
      "source": [
        "#import the important packages\n",
        "import pandas as pd #library used for data manipulation and analysis\n",
        "import numpy as np # library used for working with arrays.\n",
        "import matplotlib.pyplot as plt # library for plots and visualisations\n",
        "import seaborn as sns # library for visualisations\n",
        "%matplotlib inline\n",
        "\n",
        "import scipy.stats as stats # this library contains a large number of probability distributions as well as a growing library of statistical functions."
      ]
    },
    {
      "cell_type": "markdown",
      "metadata": {
        "id": "zwbR4fdpVNZp"
      },
      "source": [
        "# **Binomial Distribution**"
      ]
    },
    {
      "cell_type": "markdown",
      "metadata": {
        "id": "iLvUFh_6VNZp"
      },
      "source": [
        "### **1) A LED bulb manufacturing company regularly conducts quality checks at specified periods on the products it manufactures.  Historically, the failure rate for LED light bulbs that the company manufactures is 5%. Suppose a random sample of 10 LED light  bulbs is selected. Find the probability distribution for the defective bulbs and answer the below asked questions.**"
      ]
    },
    {
      "cell_type": "code",
      "execution_count": null,
      "metadata": {
        "id": "DYBa2d2kVNZs"
      },
      "outputs": [],
      "source": [
        "n=10\n",
        "p=0.05 #probability of LED been detective"
      ]
    },
    {
      "cell_type": "code",
      "source": [
        "# declare different possible number of LED selected in a numpy array\n",
        "k = np.arange(0,11)\n",
        "k"
      ],
      "metadata": {
        "colab": {
          "base_uri": "https://localhost:8080/"
        },
        "id": "uIKpGTiTaTKL",
        "outputId": "fc9bf373-43f6-47ff-c939-f273a6da100f"
      },
      "execution_count": null,
      "outputs": [
        {
          "output_type": "execute_result",
          "data": {
            "text/plain": [
              "array([ 0,  1,  2,  3,  4,  5,  6,  7,  8,  9, 10])"
            ]
          },
          "metadata": {},
          "execution_count": 4
        }
      ]
    },
    {
      "cell_type": "code",
      "source": [
        "# use the binom.pmf() function to generate the probability distribution\n",
        "binomial = stats.binom.pmf(k=k, n=n, p=p)"
      ],
      "metadata": {
        "id": "atLQMbe8arxN"
      },
      "execution_count": null,
      "outputs": []
    },
    {
      "cell_type": "code",
      "source": [
        "# plot the distribution\n",
        "plt.bar(k, binomial) # make a bar plot\n",
        "plt.title(\"Binomial: n=%i , p=%.2f\" % (n, p), fontsize=15) # set the title\n",
        "plt.xlabel(\"Number of Failures\") # set the x-axis label\n",
        "plt.ylabel(\"Probability of Failures\") # set the y-axis label\n",
        "plt.show() # display the plot"
      ],
      "metadata": {
        "colab": {
          "base_uri": "https://localhost:8080/",
          "height": 474
        },
        "id": "GPQ8ljrjaxe9",
        "outputId": "4d248335-59ab-4603-a954-b4c618786065"
      },
      "execution_count": null,
      "outputs": [
        {
          "output_type": "display_data",
          "data": {
            "text/plain": [
              "<Figure size 640x480 with 1 Axes>"
            ],
            "image/png": "[encoded data removed]"
          },
          "metadata": {}
        }
      ]
    },
    {
      "cell_type": "markdown",
      "metadata": {
        "id": "U8C34C7HVNZr"
      },
      "source": [
        "**a) What is the probability that none of the LED bulbs are defective?**"
      ]
    },
    {
      "cell_type": "code",
      "source": [
        "print(binomial[0])"
      ],
      "metadata": {
        "colab": {
          "base_uri": "https://localhost:8080/"
        },
        "id": "uY2xEhi-aLV9",
        "outputId": "b403e9f7-8baf-4f23-d500-2ae679ac5306"
      },
      "execution_count": null,
      "outputs": [
        {
          "output_type": "stream",
          "name": "stdout",
          "text": [
            "0.5987369392383789\n"
          ]
        }
      ]
    },
    {
      "cell_type": "markdown",
      "metadata": {
        "id": "siKk2kFfVNZs"
      },
      "source": [
        "**b) What is the probability that exactly one of the LED bulbs is defective?**"
      ]
    },
    {
      "cell_type": "code",
      "execution_count": null,
      "metadata": {
        "colab": {
          "base_uri": "https://localhost:8080/"
        },
        "id": "JvlpPRafVNZt",
        "outputId": "673ad31e-34f7-4f92-99df-99dcec744877"
      },
      "outputs": [
        {
          "output_type": "stream",
          "name": "stdout",
          "text": [
            "0.3151247048623047\n"
          ]
        }
      ],
      "source": [
        "print(binomial[1])"
      ]
    },
    {
      "cell_type": "markdown",
      "metadata": {
        "id": "sTKTp_VbVNZt"
      },
      "source": [
        "**c) What is the probability that two or fewer of the LED bulbs are defective?**"
      ]
    },
    {
      "cell_type": "markdown",
      "metadata": {
        "id": "_ETr7cSsVNZu"
      },
      "source": [
        "Hint:\n",
        "We need to calculate cumulative probability of two or fewer LED bulbs being defective"
      ]
    },
    {
      "cell_type": "code",
      "execution_count": null,
      "metadata": {
        "colab": {
          "base_uri": "https://localhost:8080/"
        },
        "id": "ohej5x5tVNZv",
        "outputId": "b588a19c-369d-472d-bb97-83dabd48df1b"
      },
      "outputs": [
        {
          "output_type": "stream",
          "name": "stdout",
          "text": [
            "0.9884964426207031\n"
          ]
        }
      ],
      "source": [
        "print(stats.binom.cdf(k=2,n=n,p=p))"
      ]
    },
    {
      "cell_type": "markdown",
      "metadata": {
        "id": "6D3d7vgNVNZv"
      },
      "source": [
        "**d) What is the probability that three or more of the LED bulbs are defective**"
      ]
    },
    {
      "cell_type": "markdown",
      "metadata": {
        "id": "-EnDIeiTVNZv"
      },
      "source": [
        "Hint: We need to subtract the cumulative probability up to 2 defective LED bulbs from 1."
      ]
    },
    {
      "cell_type": "code",
      "execution_count": null,
      "metadata": {
        "colab": {
          "base_uri": "https://localhost:8080/"
        },
        "id": "mvuUJchzVNZw",
        "outputId": "cc4745c7-d3d3-43e5-a9d5-d11084dfb234"
      },
      "outputs": [
        {
          "output_type": "stream",
          "name": "stdout",
          "text": [
            "0.01150355737929687\n"
          ]
        }
      ],
      "source": [
        "print(1-stats.binom.cdf(k=2,n=n,p=p))"
      ]
    },
    {
      "cell_type": "markdown",
      "metadata": {
        "id": "g7pg-lWiVNZx"
      },
      "source": [
        "### **2) During an NBA game a basketball player has two foul shots (free throw), if he converts 93% of his free throw shots.**"
      ]
    },
    {
      "cell_type": "code",
      "source": [
        "n=2\n",
        "p=0.93\n",
        "k=np.arange(0,3)\n",
        "k"
      ],
      "metadata": {
        "colab": {
          "base_uri": "https://localhost:8080/"
        },
        "id": "hKUgiMlec4oV",
        "outputId": "d04e8090-a1af-41fd-8327-b2bad3a3057f"
      },
      "execution_count": null,
      "outputs": [
        {
          "output_type": "execute_result",
          "data": {
            "text/plain": [
              "array([0, 1, 2])"
            ]
          },
          "metadata": {},
          "execution_count": 38
        }
      ]
    },
    {
      "cell_type": "code",
      "source": [
        "binomial = stats.binom.pmf(k=k, n=n, p=p)"
      ],
      "metadata": {
        "id": "XY_w0pEYdFCF"
      },
      "execution_count": null,
      "outputs": []
    },
    {
      "cell_type": "markdown",
      "metadata": {
        "id": "I1yejxesVNZx"
      },
      "source": [
        "**a) What is the probability that he will convert both the shots?**"
      ]
    },
    {
      "cell_type": "code",
      "execution_count": null,
      "metadata": {
        "colab": {
          "base_uri": "https://localhost:8080/"
        },
        "id": "SmwMFMOwVNZx",
        "outputId": "2e0abf79-09b4-4a64-c285-7c251201554a"
      },
      "outputs": [
        {
          "output_type": "stream",
          "name": "stdout",
          "text": [
            "0.8649000000000001\n"
          ]
        }
      ],
      "source": [
        "print(binomial[2])"
      ]
    },
    {
      "cell_type": "markdown",
      "metadata": {
        "id": "0R1FriOVVNZy"
      },
      "source": [
        "**b) What is the probability that he will convert at least one shot?**"
      ]
    },
    {
      "cell_type": "code",
      "execution_count": null,
      "metadata": {
        "colab": {
          "base_uri": "https://localhost:8080/"
        },
        "id": "LHvHcZIZVNZy",
        "outputId": "81601cce-f334-472c-c756-30a082bce724"
      },
      "outputs": [
        {
          "output_type": "stream",
          "name": "stdout",
          "text": [
            "0.9951\n"
          ]
        }
      ],
      "source": [
        "print(1-stats.binom.cdf(k=0,n=n,p=p))"
      ]
    },
    {
      "cell_type": "markdown",
      "metadata": {
        "id": "jeGWrHJhabri"
      },
      "source": [
        "### **3)\tOver a long period  in a large multinomial corporation, 10% of all sales trainees are rated as outstanding, 75% are rated as excellent, 10% are rated as satisfactory and 5% are considered unsatisfactory. Find the following probabilities for a sample of 10 trainees selected at random:**"
      ]
    },
    {
      "cell_type": "code",
      "source": [
        "n=10\n",
        "p_out=0.1\n",
        "p_exc=0.75\n",
        "p_sat=0.1\n",
        "p_unsat=0.05"
      ],
      "metadata": {
        "id": "Xq0WqKwyh6r_"
      },
      "execution_count": null,
      "outputs": []
    },
    {
      "cell_type": "code",
      "source": [
        "k=np.arange(0,11)"
      ],
      "metadata": {
        "id": "GAdulptziFZA"
      },
      "execution_count": null,
      "outputs": []
    },
    {
      "cell_type": "markdown",
      "metadata": {
        "id": "f0-NPUBiVNaG"
      },
      "source": [
        "**a) Two are rated as outstanding**"
      ]
    },
    {
      "cell_type": "code",
      "execution_count": null,
      "metadata": {
        "id": "nJhIbOHmabrl"
      },
      "outputs": [],
      "source": [
        "bin_out=stats.binom.pmf(k=k,n=n,p=p_out)"
      ]
    },
    {
      "cell_type": "code",
      "source": [
        "print(bin_out[2])"
      ],
      "metadata": {
        "colab": {
          "base_uri": "https://localhost:8080/"
        },
        "id": "YkmOgLKPifP8",
        "outputId": "1dbd2900-6870-4838-8304-d11b2b53599f"
      },
      "execution_count": null,
      "outputs": [
        {
          "output_type": "stream",
          "name": "stdout",
          "text": [
            "0.19371024450000007\n"
          ]
        }
      ]
    },
    {
      "cell_type": "markdown",
      "metadata": {
        "id": "RZCEMFSrVNaG"
      },
      "source": [
        "**b) Two or more are rated as outstanding**"
      ]
    },
    {
      "cell_type": "code",
      "execution_count": null,
      "metadata": {
        "id": "KxHPMtooabrw",
        "outputId": "069b73a0-9568-41d3-b44e-6ec9c8b14ae6",
        "colab": {
          "base_uri": "https://localhost:8080/"
        }
      },
      "outputs": [
        {
          "output_type": "stream",
          "name": "stdout",
          "text": [
            "0.26390107090000003\n"
          ]
        }
      ],
      "source": [
        "print(1-stats.binom.cdf(k=1,n=n,p=p_out))"
      ]
    },
    {
      "cell_type": "markdown",
      "metadata": {
        "id": "u5_21Ab8VNaH"
      },
      "source": [
        "**c) Eight of the ten are rated either outstanding or excellent**"
      ]
    },
    {
      "cell_type": "code",
      "execution_count": null,
      "metadata": {
        "id": "hUf08sVQabr3",
        "outputId": "f824a2a2-4d89-4c2a-b8c0-c4428d9b3b83",
        "colab": {
          "base_uri": "https://localhost:8080/"
        }
      },
      "outputs": [
        {
          "output_type": "stream",
          "name": "stdout",
          "text": [
            "0.27589665660205076\n"
          ]
        }
      ],
      "source": [
        "bin_out_exc=stats.binom.pmf(k=k,n=n,p=(p_out+p_exc))\n",
        "print(bin_out_exc[8])"
      ]
    },
    {
      "cell_type": "markdown",
      "metadata": {
        "id": "by_BuepFVNaH"
      },
      "source": [
        "**d) None of the trainees are rated as unsatisfactory**"
      ]
    },
    {
      "cell_type": "code",
      "execution_count": null,
      "metadata": {
        "id": "RHtn4WYzabsA",
        "outputId": "20c1270e-0e0f-44d7-e338-f71bdc6b04c3",
        "colab": {
          "base_uri": "https://localhost:8080/"
        }
      },
      "outputs": [
        {
          "output_type": "stream",
          "name": "stdout",
          "text": [
            "0.5987369392383789\n"
          ]
        }
      ],
      "source": [
        "bin_uns=stats.binom.pmf(k=k,n=n,p=p_unsat)\n",
        "print(bin_uns[0])"
      ]
    },
    {
      "cell_type": "markdown",
      "metadata": {
        "id": "1-lP_U28aUuP"
      },
      "source": [
        "# **Uniform Distribution**\n",
        "\n",
        "### **1) A University records the amount of time  students take  to solve the statistics assignment in 'assignment.csv’. Plot the probability distribution this data follows and answer the following questions.**\n",
        "\n",
        "\n",
        "\n",
        "\n",
        "\n",
        "\n"
      ]
    },
    {
      "cell_type": "markdown",
      "metadata": {
        "id": "l46Ul-hMd7DD"
      },
      "source": [
        "#### **Reading the Data into the Dataframe**"
      ]
    },
    {
      "cell_type": "code",
      "execution_count": 2,
      "metadata": {
        "id": "C1zqTRCLd6BQ"
      },
      "outputs": [],
      "source": [
        "data=pd.read_csv('/content/assignment.csv')"
      ]
    },
    {
      "cell_type": "code",
      "source": [
        "data.head()"
      ],
      "metadata": {
        "colab": {
          "base_uri": "https://localhost:8080/",
          "height": 206
        },
        "id": "B_So7TWx9OD6",
        "outputId": "e715344c-9b0c-4aa8-b99f-3b703677a113"
      },
      "execution_count": 3,
      "outputs": [
        {
          "output_type": "execute_result",
          "data": {
            "text/plain": [
              "   Student_ID  Time_taken\n",
              "0         955        2.79\n",
              "1         379        3.32\n",
              "2         922        1.35\n",
              "3         312        2.35\n",
              "4         670        1.98"
            ],
            "text/html": [
              "\n",
              "  <div id=\"df-f2d78042-6bbb-4bdd-9224-6a8c039fe674\" class=\"colab-df-container\">\n",
              "    <div>\n",
              "<style scoped>\n",
              "    .dataframe tbody tr th:only-of-type {\n",
              "        vertical-align: middle;\n",
              "    }\n",
              "\n",
              "    .dataframe tbody tr th {\n",
              "        vertical-align: top;\n",
              "    }\n",
              "\n",
              "    .dataframe thead th {\n",
              "        text-align: right;\n",
              "    }\n",
              "</style>\n",
              "<table border=\"1\" class=\"dataframe\">\n",
              "  <thead>\n",
              "    <tr style=\"text-align: right;\">\n",
              "      <th></th>\n",
              "      <th>Student_ID</th>\n",
              "      <th>Time_taken</th>\n",
              "    </tr>\n",
              "  </thead>\n",
              "  <tbody>\n",
              "    <tr>\n",
              "      <th>0</th>\n",
              "      <td>955</td>\n",
              "      <td>2.79</td>\n",
              "    </tr>\n",
              "    <tr>\n",
              "      <th>1</th>\n",
              "      <td>379</td>\n",
              "      <td>3.32</td>\n",
              "    </tr>\n",
              "    <tr>\n",
              "      <th>2</th>\n",
              "      <td>922</td>\n",
              "      <td>1.35</td>\n",
              "    </tr>\n",
              "    <tr>\n",
              "      <th>3</th>\n",
              "      <td>312</td>\n",
              "      <td>2.35</td>\n",
              "    </tr>\n",
              "    <tr>\n",
              "      <th>4</th>\n",
              "      <td>670</td>\n",
              "      <td>1.98</td>\n",
              "    </tr>\n",
              "  </tbody>\n",
              "</table>\n",
              "</div>\n",
              "    <div class=\"colab-df-buttons\">\n",
              "\n",
              "  <div class=\"colab-df-container\">\n",
              "    <button class=\"colab-df-convert\" onclick=\"convertToInteractive('df-f2d78042-6bbb-4bdd-9224-6a8c039fe674')\"\n",
              "            title=\"Convert this dataframe to an interactive table.\"\n",
              "            style=\"display:none;\">\n",
              "\n",
              "  <svg xmlns=\"http://www.w3.org/2000/svg\" height=\"24px\" viewBox=\"0 -960 960 960\">\n",
              "    <path d=\"M120-120v-720h720v720H120Zm60-500h600v-160H180v160Zm220 220h160v-160H400v160Zm0 220h160v-160H400v160ZM180-400h160v-160H180v160Zm440 0h160v-160H620v160ZM180-180h160v-160H180v160Zm440 0h160v-160H620v160Z\"/>\n",
              "  </svg>\n",
              "    </button>\n",
              "\n",
              "  <style>\n",
              "    .colab-df-container {\n",
              "      display:flex;\n",
              "      gap: 12px;\n",
              "    }\n",
              "\n",
              "    .colab-df-convert {\n",
              "      background-color: #E8F0FE;\n",
              "      border: none;\n",
              "      border-radius: 50%;\n",
              "      cursor: pointer;\n",
              "      display: none;\n",
              "      fill: #1967D2;\n",
              "      height: 32px;\n",
              "      padding: 0 0 0 0;\n",
              "      width: 32px;\n",
              "    }\n",
              "\n",
              "    .colab-df-convert:hover {\n",
              "      background-color: #E2EBFA;\n",
              "      box-shadow: 0px 1px 2px rgba(60, 64, 67, 0.3), 0px 1px 3px 1px rgba(60, 64, 67, 0.15);\n",
              "      fill: #174EA6;\n",
              "    }\n",
              "\n",
              "    .colab-df-buttons div {\n",
              "      margin-bottom: 4px;\n",
              "    }\n",
              "\n",
              "    [theme=dark] .colab-df-convert {\n",
              "      background-color: #3B4455;\n",
              "      fill: #D2E3FC;\n",
              "    }\n",
              "\n",
              "    [theme=dark] .colab-df-convert:hover {\n",
              "      background-color: #434B5C;\n",
              "      box-shadow: 0px 1px 3px 1px rgba(0, 0, 0, 0.15);\n",
              "      filter: drop-shadow(0px 1px 2px rgba(0, 0, 0, 0.3));\n",
              "      fill: #FFFFFF;\n",
              "    }\n",
              "  </style>\n",
              "\n",
              "    <script>\n",
              "      const buttonEl =\n",
              "        document.querySelector('#df-f2d78042-6bbb-4bdd-9224-6a8c039fe674 button.colab-df-convert');\n",
              "      buttonEl.style.display =\n",
              "        google.colab.kernel.accessAllowed ? 'block' : 'none';\n",
              "\n",
              "      async function convertToInteractive(key) {\n",
              "        const element = document.querySelector('#df-f2d78042-6bbb-4bdd-9224-6a8c039fe674');\n",
              "        const dataTable =\n",
              "          await google.colab.kernel.invokeFunction('convertToInteractive',\n",
              "                                                    [key], {});\n",
              "        if (!dataTable) return;\n",
              "\n",
              "        const docLinkHtml = 'Like what you see? Visit the ' +\n",
              "          '<a target=\"_blank\" href=https://colab.research.google.com/notebooks/data_table.ipynb>data table notebook</a>'\n",
              "          + ' to learn more about interactive tables.';\n",
              "        element.innerHTML = '';\n",
              "        dataTable['output_type'] = 'display_data';\n",
              "        await google.colab.output.renderOutput(dataTable, element);\n",
              "        const docLink = document.createElement('div');\n",
              "        docLink.innerHTML = docLinkHtml;\n",
              "        element.appendChild(docLink);\n",
              "      }\n",
              "    </script>\n",
              "  </div>\n",
              "\n",
              "\n",
              "<div id=\"df-78056948-bd72-414a-8975-67851d89b3e9\">\n",
              "  <button class=\"colab-df-quickchart\" onclick=\"quickchart('df-78056948-bd72-414a-8975-67851d89b3e9')\"\n",
              "            title=\"Suggest charts\"\n",
              "            style=\"display:none;\">\n",
              "\n",
              "<svg xmlns=\"http://www.w3.org/2000/svg\" height=\"24px\"viewBox=\"0 0 24 24\"\n",
              "     width=\"24px\">\n",
              "    <g>\n",
              "        <path d=\"M19 3H5c-1.1 0-2 .9-2 2v14c0 1.1.9 2 2 2h14c1.1 0 2-.9 2-2V5c0-1.1-.9-2-2-2zM9 17H7v-7h2v7zm4 0h-2V7h2v10zm4 0h-2v-4h2v4z\"/>\n",
              "    </g>\n",
              "</svg>\n",
              "  </button>\n",
              "\n",
              "<style>\n",
              "  .colab-df-quickchart {\n",
              "      --bg-color: #E8F0FE;\n",
              "      --fill-color: #1967D2;\n",
              "      --hover-bg-color: #E2EBFA;\n",
              "      --hover-fill-color: #174EA6;\n",
              "      --disabled-fill-color: #AAA;\n",
              "      --disabled-bg-color: #DDD;\n",
              "  }\n",
              "\n",
              "  [theme=dark] .colab-df-quickchart {\n",
              "      --bg-color: #3B4455;\n",
              "      --fill-color: #D2E3FC;\n",
              "      --hover-bg-color: #434B5C;\n",
              "      --hover-fill-color: #FFFFFF;\n",
              "      --disabled-bg-color: #3B4455;\n",
              "      --disabled-fill-color: #666;\n",
              "  }\n",
              "\n",
              "  .colab-df-quickchart {\n",
              "    background-color: var(--bg-color);\n",
              "    border: none;\n",
              "    border-radius: 50%;\n",
              "    cursor: pointer;\n",
              "    display: none;\n",
              "    fill: var(--fill-color);\n",
              "    height: 32px;\n",
              "    padding: 0;\n",
              "    width: 32px;\n",
              "  }\n",
              "\n",
              "  .colab-df-quickchart:hover {\n",
              "    background-color: var(--hover-bg-color);\n",
              "    box-shadow: 0 1px 2px rgba(60, 64, 67, 0.3), 0 1px 3px 1px rgba(60, 64, 67, 0.15);\n",
              "    fill: var(--button-hover-fill-color);\n",
              "  }\n",
              "\n",
              "  .colab-df-quickchart-complete:disabled,\n",
              "  .colab-df-quickchart-complete:disabled:hover {\n",
              "    background-color: var(--disabled-bg-color);\n",
              "    fill: var(--disabled-fill-color);\n",
              "    box-shadow: none;\n",
              "  }\n",
              "\n",
              "  .colab-df-spinner {\n",
              "    border: 2px solid var(--fill-color);\n",
              "    border-color: transparent;\n",
              "    border-bottom-color: var(--fill-color);\n",
              "    animation:\n",
              "      spin 1s steps(1) infinite;\n",
              "  }\n",
              "\n",
              "  @keyframes spin {\n",
              "    0% {\n",
              "      border-color: transparent;\n",
              "      border-bottom-color: var(--fill-color);\n",
              "      border-left-color: var(--fill-color);\n",
              "    }\n",
              "    20% {\n",
              "      border-color: transparent;\n",
              "      border-left-color: var(--fill-color);\n",
              "      border-top-color: var(--fill-color);\n",
              "    }\n",
              "    30% {\n",
              "      border-color: transparent;\n",
              "      border-left-color: var(--fill-color);\n",
              "      border-top-color: var(--fill-color);\n",
              "      border-right-color: var(--fill-color);\n",
              "    }\n",
              "    40% {\n",
              "      border-color: transparent;\n",
              "      border-right-color: var(--fill-color);\n",
              "      border-top-color: var(--fill-color);\n",
              "    }\n",
              "    60% {\n",
              "      border-color: transparent;\n",
              "      border-right-color: var(--fill-color);\n",
              "    }\n",
              "    80% {\n",
              "      border-color: transparent;\n",
              "      border-right-color: var(--fill-color);\n",
              "      border-bottom-color: var(--fill-color);\n",
              "    }\n",
              "    90% {\n",
              "      border-color: transparent;\n",
              "      border-bottom-color: var(--fill-color);\n",
              "    }\n",
              "  }\n",
              "</style>\n",
              "\n",
              "  <script>\n",
              "    async function quickchart(key) {\n",
              "      const quickchartButtonEl =\n",
              "        document.querySelector('#' + key + ' button');\n",
              "      quickchartButtonEl.disabled = true;  // To prevent multiple clicks.\n",
              "      quickchartButtonEl.classList.add('colab-df-spinner');\n",
              "      try {\n",
              "        const charts = await google.colab.kernel.invokeFunction(\n",
              "            'suggestCharts', [key], {});\n",
              "      } catch (error) {\n",
              "        console.error('Error during call to suggestCharts:', error);\n",
              "      }\n",
              "      quickchartButtonEl.classList.remove('colab-df-spinner');\n",
              "      quickchartButtonEl.classList.add('colab-df-quickchart-complete');\n",
              "    }\n",
              "    (() => {\n",
              "      let quickchartButtonEl =\n",
              "        document.querySelector('#df-78056948-bd72-414a-8975-67851d89b3e9 button');\n",
              "      quickchartButtonEl.style.display =\n",
              "        google.colab.kernel.accessAllowed ? 'block' : 'none';\n",
              "    })();\n",
              "  </script>\n",
              "</div>\n",
              "\n",
              "    </div>\n",
              "  </div>\n"
            ],
            "application/vnd.google.colaboratory.intrinsic+json": {
              "type": "dataframe",
              "variable_name": "data",
              "summary": "{\n  \"name\": \"data\",\n  \"rows\": 1000,\n  \"fields\": [\n    {\n      \"column\": \"Student_ID\",\n      \"properties\": {\n        \"dtype\": \"number\",\n        \"std\": 293,\n        \"min\": 2,\n        \"max\": 999,\n        \"num_unique_values\": 653,\n        \"samples\": [\n          692,\n          234,\n          552\n        ],\n        \"semantic_type\": \"\",\n        \"description\": \"\"\n      }\n    },\n    {\n      \"column\": \"Time_taken\",\n      \"properties\": {\n        \"dtype\": \"number\",\n        \"std\": 0.8510824800145912,\n        \"min\": 1.0,\n        \"max\": 4.0,\n        \"num_unique_values\": 286,\n        \"samples\": [\n          1.28,\n          3.36,\n          3.42\n        ],\n        \"semantic_type\": \"\",\n        \"description\": \"\"\n      }\n    }\n  ]\n}"
            }
          },
          "metadata": {},
          "execution_count": 3
        }
      ]
    },
    {
      "cell_type": "code",
      "source": [
        "data.describe()"
      ],
      "metadata": {
        "colab": {
          "base_uri": "https://localhost:8080/",
          "height": 300
        },
        "id": "GrCgBK-t9P0U",
        "outputId": "82a87993-b880-4fc0-b35a-4f52e851855d"
      },
      "execution_count": 4,
      "outputs": [
        {
          "output_type": "execute_result",
          "data": {
            "text/plain": [
              "        Student_ID   Time_taken\n",
              "count  1000.000000  1000.000000\n",
              "mean    508.611000     2.497440\n",
              "std     293.527757     0.851082\n",
              "min       2.000000     1.000000\n",
              "25%     256.000000     1.767500\n",
              "50%     525.000000     2.500000\n",
              "75%     760.250000     3.230000\n",
              "max     999.000000     4.000000"
            ],
            "text/html": [
              "\n",
              "  <div id=\"df-e65c1d1d-3ce6-4c5b-9b7b-7889c691f3a6\" class=\"colab-df-container\">\n",
              "    <div>\n",
              "<style scoped>\n",
              "    .dataframe tbody tr th:only-of-type {\n",
              "        vertical-align: middle;\n",
              "    }\n",
              "\n",
              "    .dataframe tbody tr th {\n",
              "        vertical-align: top;\n",
              "    }\n",
              "\n",
              "    .dataframe thead th {\n",
              "        text-align: right;\n",
              "    }\n",
              "</style>\n",
              "<table border=\"1\" class=\"dataframe\">\n",
              "  <thead>\n",
              "    <tr style=\"text-align: right;\">\n",
              "      <th></th>\n",
              "      <th>Student_ID</th>\n",
              "      <th>Time_taken</th>\n",
              "    </tr>\n",
              "  </thead>\n",
              "  <tbody>\n",
              "    <tr>\n",
              "      <th>count</th>\n",
              "      <td>1000.000000</td>\n",
              "      <td>1000.000000</td>\n",
              "    </tr>\n",
              "    <tr>\n",
              "      <th>mean</th>\n",
              "      <td>508.611000</td>\n",
              "      <td>2.497440</td>\n",
              "    </tr>\n",
              "    <tr>\n",
              "      <th>std</th>\n",
              "      <td>293.527757</td>\n",
              "      <td>0.851082</td>\n",
              "    </tr>\n",
              "    <tr>\n",
              "      <th>min</th>\n",
              "      <td>2.000000</td>\n",
              "      <td>1.000000</td>\n",
              "    </tr>\n",
              "    <tr>\n",
              "      <th>25%</th>\n",
              "      <td>256.000000</td>\n",
              "      <td>1.767500</td>\n",
              "    </tr>\n",
              "    <tr>\n",
              "      <th>50%</th>\n",
              "      <td>525.000000</td>\n",
              "      <td>2.500000</td>\n",
              "    </tr>\n",
              "    <tr>\n",
              "      <th>75%</th>\n",
              "      <td>760.250000</td>\n",
              "      <td>3.230000</td>\n",
              "    </tr>\n",
              "    <tr>\n",
              "      <th>max</th>\n",
              "      <td>999.000000</td>\n",
              "      <td>4.000000</td>\n",
              "    </tr>\n",
              "  </tbody>\n",
              "</table>\n",
              "</div>\n",
              "    <div class=\"colab-df-buttons\">\n",
              "\n",
              "  <div class=\"colab-df-container\">\n",
              "    <button class=\"colab-df-convert\" onclick=\"convertToInteractive('df-e65c1d1d-3ce6-4c5b-9b7b-7889c691f3a6')\"\n",
              "            title=\"Convert this dataframe to an interactive table.\"\n",
              "            style=\"display:none;\">\n",
              "\n",
              "  <svg xmlns=\"http://www.w3.org/2000/svg\" height=\"24px\" viewBox=\"0 -960 960 960\">\n",
              "    <path d=\"M120-120v-720h720v720H120Zm60-500h600v-160H180v160Zm220 220h160v-160H400v160Zm0 220h160v-160H400v160ZM180-400h160v-160H180v160Zm440 0h160v-160H620v160ZM180-180h160v-160H180v160Zm440 0h160v-160H620v160Z\"/>\n",
              "  </svg>\n",
              "    </button>\n",
              "\n",
              "  <style>\n",
              "    .colab-df-container {\n",
              "      display:flex;\n",
              "      gap: 12px;\n",
              "    }\n",
              "\n",
              "    .colab-df-convert {\n",
              "      background-color: #E8F0FE;\n",
              "      border: none;\n",
              "      border-radius: 50%;\n",
              "      cursor: pointer;\n",
              "      display: none;\n",
              "      fill: #1967D2;\n",
              "      height: 32px;\n",
              "      padding: 0 0 0 0;\n",
              "      width: 32px;\n",
              "    }\n",
              "\n",
              "    .colab-df-convert:hover {\n",
              "      background-color: #E2EBFA;\n",
              "      box-shadow: 0px 1px 2px rgba(60, 64, 67, 0.3), 0px 1px 3px 1px rgba(60, 64, 67, 0.15);\n",
              "      fill: #174EA6;\n",
              "    }\n",
              "\n",
              "    .colab-df-buttons div {\n",
              "      margin-bottom: 4px;\n",
              "    }\n",
              "\n",
              "    [theme=dark] .colab-df-convert {\n",
              "      background-color: #3B4455;\n",
              "      fill: #D2E3FC;\n",
              "    }\n",
              "\n",
              "    [theme=dark] .colab-df-convert:hover {\n",
              "      background-color: #434B5C;\n",
              "      box-shadow: 0px 1px 3px 1px rgba(0, 0, 0, 0.15);\n",
              "      filter: drop-shadow(0px 1px 2px rgba(0, 0, 0, 0.3));\n",
              "      fill: #FFFFFF;\n",
              "    }\n",
              "  </style>\n",
              "\n",
              "    <script>\n",
              "      const buttonEl =\n",
              "        document.querySelector('#df-e65c1d1d-3ce6-4c5b-9b7b-7889c691f3a6 button.colab-df-convert');\n",
              "      buttonEl.style.display =\n",
              "        google.colab.kernel.accessAllowed ? 'block' : 'none';\n",
              "\n",
              "      async function convertToInteractive(key) {\n",
              "        const element = document.querySelector('#df-e65c1d1d-3ce6-4c5b-9b7b-7889c691f3a6');\n",
              "        const dataTable =\n",
              "          await google.colab.kernel.invokeFunction('convertToInteractive',\n",
              "                                                    [key], {});\n",
              "        if (!dataTable) return;\n",
              "\n",
              "        const docLinkHtml = 'Like what you see? Visit the ' +\n",
              "          '<a target=\"_blank\" href=https://colab.research.google.com/notebooks/data_table.ipynb>data table notebook</a>'\n",
              "          + ' to learn more about interactive tables.';\n",
              "        element.innerHTML = '';\n",
              "        dataTable['output_type'] = 'display_data';\n",
              "        await google.colab.output.renderOutput(dataTable, element);\n",
              "        const docLink = document.createElement('div');\n",
              "        docLink.innerHTML = docLinkHtml;\n",
              "        element.appendChild(docLink);\n",
              "      }\n",
              "    </script>\n",
              "  </div>\n",
              "\n",
              "\n",
              "<div id=\"df-3f1b2d17-e498-408b-8ae1-de1703758a6a\">\n",
              "  <button class=\"colab-df-quickchart\" onclick=\"quickchart('df-3f1b2d17-e498-408b-8ae1-de1703758a6a')\"\n",
              "            title=\"Suggest charts\"\n",
              "            style=\"display:none;\">\n",
              "\n",
              "<svg xmlns=\"http://www.w3.org/2000/svg\" height=\"24px\"viewBox=\"0 0 24 24\"\n",
              "     width=\"24px\">\n",
              "    <g>\n",
              "        <path d=\"M19 3H5c-1.1 0-2 .9-2 2v14c0 1.1.9 2 2 2h14c1.1 0 2-.9 2-2V5c0-1.1-.9-2-2-2zM9 17H7v-7h2v7zm4 0h-2V7h2v10zm4 0h-2v-4h2v4z\"/>\n",
              "    </g>\n",
              "</svg>\n",
              "  </button>\n",
              "\n",
              "<style>\n",
              "  .colab-df-quickchart {\n",
              "      --bg-color: #E8F0FE;\n",
              "      --fill-color: #1967D2;\n",
              "      --hover-bg-color: #E2EBFA;\n",
              "      --hover-fill-color: #174EA6;\n",
              "      --disabled-fill-color: #AAA;\n",
              "      --disabled-bg-color: #DDD;\n",
              "  }\n",
              "\n",
              "  [theme=dark] .colab-df-quickchart {\n",
              "      --bg-color: #3B4455;\n",
              "      --fill-color: #D2E3FC;\n",
              "      --hover-bg-color: #434B5C;\n",
              "      --hover-fill-color: #FFFFFF;\n",
              "      --disabled-bg-color: #3B4455;\n",
              "      --disabled-fill-color: #666;\n",
              "  }\n",
              "\n",
              "  .colab-df-quickchart {\n",
              "    background-color: var(--bg-color);\n",
              "    border: none;\n",
              "    border-radius: 50%;\n",
              "    cursor: pointer;\n",
              "    display: none;\n",
              "    fill: var(--fill-color);\n",
              "    height: 32px;\n",
              "    padding: 0;\n",
              "    width: 32px;\n",
              "  }\n",
              "\n",
              "  .colab-df-quickchart:hover {\n",
              "    background-color: var(--hover-bg-color);\n",
              "    box-shadow: 0 1px 2px rgba(60, 64, 67, 0.3), 0 1px 3px 1px rgba(60, 64, 67, 0.15);\n",
              "    fill: var(--button-hover-fill-color);\n",
              "  }\n",
              "\n",
              "  .colab-df-quickchart-complete:disabled,\n",
              "  .colab-df-quickchart-complete:disabled:hover {\n",
              "    background-color: var(--disabled-bg-color);\n",
              "    fill: var(--disabled-fill-color);\n",
              "    box-shadow: none;\n",
              "  }\n",
              "\n",
              "  .colab-df-spinner {\n",
              "    border: 2px solid var(--fill-color);\n",
              "    border-color: transparent;\n",
              "    border-bottom-color: var(--fill-color);\n",
              "    animation:\n",
              "      spin 1s steps(1) infinite;\n",
              "  }\n",
              "\n",
              "  @keyframes spin {\n",
              "    0% {\n",
              "      border-color: transparent;\n",
              "      border-bottom-color: var(--fill-color);\n",
              "      border-left-color: var(--fill-color);\n",
              "    }\n",
              "    20% {\n",
              "      border-color: transparent;\n",
              "      border-left-color: var(--fill-color);\n",
              "      border-top-color: var(--fill-color);\n",
              "    }\n",
              "    30% {\n",
              "      border-color: transparent;\n",
              "      border-left-color: var(--fill-color);\n",
              "      border-top-color: var(--fill-color);\n",
              "      border-right-color: var(--fill-color);\n",
              "    }\n",
              "    40% {\n",
              "      border-color: transparent;\n",
              "      border-right-color: var(--fill-color);\n",
              "      border-top-color: var(--fill-color);\n",
              "    }\n",
              "    60% {\n",
              "      border-color: transparent;\n",
              "      border-right-color: var(--fill-color);\n",
              "    }\n",
              "    80% {\n",
              "      border-color: transparent;\n",
              "      border-right-color: var(--fill-color);\n",
              "      border-bottom-color: var(--fill-color);\n",
              "    }\n",
              "    90% {\n",
              "      border-color: transparent;\n",
              "      border-bottom-color: var(--fill-color);\n",
              "    }\n",
              "  }\n",
              "</style>\n",
              "\n",
              "  <script>\n",
              "    async function quickchart(key) {\n",
              "      const quickchartButtonEl =\n",
              "        document.querySelector('#' + key + ' button');\n",
              "      quickchartButtonEl.disabled = true;  // To prevent multiple clicks.\n",
              "      quickchartButtonEl.classList.add('colab-df-spinner');\n",
              "      try {\n",
              "        const charts = await google.colab.kernel.invokeFunction(\n",
              "            'suggestCharts', [key], {});\n",
              "      } catch (error) {\n",
              "        console.error('Error during call to suggestCharts:', error);\n",
              "      }\n",
              "      quickchartButtonEl.classList.remove('colab-df-spinner');\n",
              "      quickchartButtonEl.classList.add('colab-df-quickchart-complete');\n",
              "    }\n",
              "    (() => {\n",
              "      let quickchartButtonEl =\n",
              "        document.querySelector('#df-3f1b2d17-e498-408b-8ae1-de1703758a6a button');\n",
              "      quickchartButtonEl.style.display =\n",
              "        google.colab.kernel.accessAllowed ? 'block' : 'none';\n",
              "    })();\n",
              "  </script>\n",
              "</div>\n",
              "\n",
              "    </div>\n",
              "  </div>\n"
            ],
            "application/vnd.google.colaboratory.intrinsic+json": {
              "type": "dataframe",
              "summary": "{\n  \"name\": \"data\",\n  \"rows\": 8,\n  \"fields\": [\n    {\n      \"column\": \"Student_ID\",\n      \"properties\": {\n        \"dtype\": \"number\",\n        \"std\": 359.12105934931844,\n        \"min\": 2.0,\n        \"max\": 1000.0,\n        \"num_unique_values\": 8,\n        \"samples\": [\n          508.611,\n          525.0,\n          1000.0\n        ],\n        \"semantic_type\": \"\",\n        \"description\": \"\"\n      }\n    },\n    {\n      \"column\": \"Time_taken\",\n      \"properties\": {\n        \"dtype\": \"number\",\n        \"std\": 352.7546447665518,\n        \"min\": 0.8510824800145912,\n        \"max\": 1000.0,\n        \"num_unique_values\": 8,\n        \"samples\": [\n          2.4974399999999997,\n          2.5,\n          1000.0\n        ],\n        \"semantic_type\": \"\",\n        \"description\": \"\"\n      }\n    }\n  ]\n}"
            }
          },
          "metadata": {},
          "execution_count": 4
        }
      ]
    },
    {
      "cell_type": "code",
      "source": [
        "sns.histplot(data=data,x='Time_taken',kde=True)\n",
        "plt.show()"
      ],
      "metadata": {
        "colab": {
          "base_uri": "https://localhost:8080/",
          "height": 450
        },
        "id": "7GYuhGlX9Wid",
        "outputId": "552be96c-b9b8-45f6-fd9a-8f54297e3df3"
      },
      "execution_count": 6,
      "outputs": [
        {
          "output_type": "display_data",
          "data": {
            "text/plain": [
              "<Figure size 640x480 with 1 Axes>"
            ],
            "image/png": "[encoded data removed]"
          },
          "metadata": {}
        }
      ]
    },
    {
      "cell_type": "markdown",
      "metadata": {
        "id": "riMH9942kyzJ"
      },
      "source": [
        "**a) Find the probability that a randomly selected Student  requires atmost 2.5 hours to complete the assignment.**\n",
        "\n",
        "\n",
        "\n",
        "**CDF:** of a random variable(X) is the probability that X  will take the value less than or equal to x. It can be represented mathematically as below.\n",
        "\n",
        ">$F_X(x) = P(X\\leq x)$\n",
        "\n",
        "\n",
        "In our case, random variable(X) is the number of hours.\n",
        "\n",
        "$ P(X\\leq 2.5)$"
      ]
    },
    {
      "cell_type": "code",
      "execution_count": 9,
      "metadata": {
        "id": "j6Q_wOlPlh5g",
        "colab": {
          "base_uri": "https://localhost:8080/"
        },
        "outputId": "05435302-7f37-4589-c602-c215b802c823"
      },
      "outputs": [
        {
          "output_type": "stream",
          "name": "stdout",
          "text": [
            "The probability that a randomly selected student required atmost 2.5 hours to complete the assignment is 0.5\n"
          ]
        }
      ],
      "source": [
        "print(\"The probability that a randomly selected student required atmost 2.5 hours to complete the assignment is\",stats.uniform.cdf(x=2.5,loc=1,scale=3))"
      ]
    },
    {
      "cell_type": "markdown",
      "metadata": {
        "id": "C3TVqrPQlt1h"
      },
      "source": [
        "**b) Find the probability that a randomly selected student  requires atleast  3 hours to complete the quiz.**\n",
        "\n",
        "$ P(X>=3)$"
      ]
    },
    {
      "cell_type": "code",
      "execution_count": 14,
      "metadata": {
        "id": "qy9TT_38l108",
        "colab": {
          "base_uri": "https://localhost:8080/"
        },
        "outputId": "727e76ef-dd88-49b6-8e3f-9017af20d215"
      },
      "outputs": [
        {
          "output_type": "stream",
          "name": "stdout",
          "text": [
            "The probability that a randomly selected student requires at least 3 hours to complete the quiz is 0.333\n"
          ]
        }
      ],
      "source": [
        "print(\"The probability that a randomly selected student requires at least 3 hours to complete the quiz is {:.3f}\".format(1-stats.uniform.cdf(x=3,loc=1,scale=3)))"
      ]
    },
    {
      "cell_type": "markdown",
      "metadata": {
        "id": "ln66mUUsmad-"
      },
      "source": [
        "**c) Find the probability that a randomly selected student requires 1.5 to 3.5 hours to complete the quiz.**\n",
        "\n",
        "$ P(1.5<= X <=3.5)$"
      ]
    },
    {
      "cell_type": "code",
      "execution_count": 15,
      "metadata": {
        "id": "oVS-Q3f3mZlj",
        "colab": {
          "base_uri": "https://localhost:8080/"
        },
        "outputId": "a5ee47c1-696a-433e-e263-d499d8508d4e"
      },
      "outputs": [
        {
          "output_type": "stream",
          "name": "stdout",
          "text": [
            "The probability that a rendomly selected student requires between 1.5 and 3.5 hours to complete the quiz is 0.667\n"
          ]
        }
      ],
      "source": [
        "print(\"The probability that a rendomly selected student requires between 1.5 and 3.5 hours to complete the quiz is {:.3f}\".format(stats.uniform.cdf(x=3.5,loc=1,scale=3)-stats.uniform.cdf(x=1.5,loc=1,scale=3)))"
      ]
    },
    {
      "cell_type": "markdown",
      "metadata": {
        "id": "xh7vsKOHVNZ8"
      },
      "source": [
        "# **Normal Distribution**"
      ]
    },
    {
      "cell_type": "markdown",
      "metadata": {
        "id": "yRiWnS4VabsT"
      },
      "source": [
        "### **1) According to the Telecommunication Industry the average monthly cell phone bill is Rs. 850 with a standard deviation of Rs. 150. Assuming that the monthly bill follows normal distribution answer the following:**"
      ]
    },
    {
      "cell_type": "markdown",
      "metadata": {
        "id": "MJ7wKYwvVNZ_"
      },
      "source": [
        "**a) What is the probability that a randomly selected cell phone bill is more than Rs 1200?**"
      ]
    },
    {
      "cell_type": "code",
      "execution_count": 18,
      "metadata": {
        "id": "jJ1cXSf0absV",
        "colab": {
          "base_uri": "https://localhost:8080/"
        },
        "outputId": "8e0a8097-e848-4095-ed77-492ef8045890"
      },
      "outputs": [
        {
          "output_type": "stream",
          "name": "stdout",
          "text": [
            "0.0098\n"
          ]
        }
      ],
      "source": [
        "print(\"{:.4f}\".format(1-stats.norm.cdf(1200,850,150)))"
      ]
    },
    {
      "cell_type": "markdown",
      "metadata": {
        "id": "1eoJzslRVNZ_"
      },
      "source": [
        "**b) What is the probability that a randomly selected cell phone bill is between Rs 750 and Rs 1200?**"
      ]
    },
    {
      "cell_type": "code",
      "execution_count": 19,
      "metadata": {
        "id": "1uU2mRzbabsh",
        "colab": {
          "base_uri": "https://localhost:8080/"
        },
        "outputId": "d3c95855-5e93-459c-f1f5-9b92cc2f0814"
      },
      "outputs": [
        {
          "output_type": "stream",
          "name": "stdout",
          "text": [
            "0.7377\n"
          ]
        }
      ],
      "source": [
        "print(\"{:.4f}\".format(stats.norm.cdf(1200,850,150)-stats.norm.cdf(750,850,150)))"
      ]
    },
    {
      "cell_type": "markdown",
      "metadata": {
        "id": "tGxBocT6VNZ_"
      },
      "source": [
        "**c) What is the probability that a randomly selected cell phone bill is no more than Rs 650?**"
      ]
    },
    {
      "cell_type": "code",
      "execution_count": 20,
      "metadata": {
        "id": "TqFcIHcUabsp",
        "colab": {
          "base_uri": "https://localhost:8080/"
        },
        "outputId": "7eef69b7-d98b-4e58-fa6c-6b8df8cb664d"
      },
      "outputs": [
        {
          "output_type": "stream",
          "name": "stdout",
          "text": [
            "0.0912\n"
          ]
        }
      ],
      "source": [
        "print(\"{:.4f}\".format(stats.norm.cdf(650,850,150)))"
      ]
    },
    {
      "cell_type": "markdown",
      "metadata": {
        "id": "oFmIG_sqVNaA"
      },
      "source": [
        "**d) What is the amount above which lies top 15% of cell phone bills?**"
      ]
    },
    {
      "cell_type": "code",
      "execution_count": 22,
      "metadata": {
        "id": "_r55P6SNabs0",
        "colab": {
          "base_uri": "https://localhost:8080/"
        },
        "outputId": "a9fcb369-8592-4cf9-f2f7-08f21e95a182"
      },
      "outputs": [
        {
          "output_type": "stream",
          "name": "stdout",
          "text": [
            "1005.47\n"
          ]
        }
      ],
      "source": [
        "print(\"{:.2f}\".format(stats.norm.ppf(0.85,850,150)))"
      ]
    },
    {
      "cell_type": "markdown",
      "metadata": {
        "id": "_lNAMUvvVNaA"
      },
      "source": [
        "**e) What is the amount below which lies bottom 25% of cell phone bills?**"
      ]
    },
    {
      "cell_type": "code",
      "execution_count": 24,
      "metadata": {
        "id": "-7OQk_Ftabs-",
        "colab": {
          "base_uri": "https://localhost:8080/"
        },
        "outputId": "902961ea-57e5-4819-94e4-943c25ae5253"
      },
      "outputs": [
        {
          "output_type": "stream",
          "name": "stdout",
          "text": [
            "748.83\n"
          ]
        }
      ],
      "source": [
        "print(\"{:.2f}\".format(stats.norm.ppf(0.25,850,150)))"
      ]
    },
    {
      "cell_type": "markdown",
      "metadata": {
        "id": "QmtfulFDVNaH"
      },
      "source": [
        "### **2) The mean filling capacity for a coke bottle is 500 ml with a standard deviation of 20ml. Assume that it follows a normal distribution and answer the following questions:**"
      ]
    },
    {
      "cell_type": "markdown",
      "metadata": {
        "id": "ak4RyMGVVNaI"
      },
      "source": [
        "**a) What is the probability that the bottle filled less than 480 ml ?**"
      ]
    },
    {
      "cell_type": "code",
      "execution_count": 26,
      "metadata": {
        "id": "7HZogLBGVNaI",
        "colab": {
          "base_uri": "https://localhost:8080/"
        },
        "outputId": "18c86fe4-7d35-43d7-ac12-16b058b1e93a"
      },
      "outputs": [
        {
          "output_type": "stream",
          "name": "stdout",
          "text": [
            "0.1587\n"
          ]
        }
      ],
      "source": [
        "print(\"{:.4f}\".format(stats.norm.cdf(480,500,20)))"
      ]
    },
    {
      "cell_type": "markdown",
      "metadata": {
        "id": "ILDdv_5fVNaI"
      },
      "source": [
        "**b) What is the probability that the bottle filled more than  520 ml?**"
      ]
    },
    {
      "cell_type": "code",
      "execution_count": 27,
      "metadata": {
        "id": "u42DGuDPVNaJ",
        "colab": {
          "base_uri": "https://localhost:8080/"
        },
        "outputId": "8fd39427-b5b8-48cc-93d8-991c0e196e7a"
      },
      "outputs": [
        {
          "output_type": "stream",
          "name": "stdout",
          "text": [
            "0.1587\n"
          ]
        }
      ],
      "source": [
        "print(\"{:.4f}\".format(1-stats.norm.cdf(520,500,20)))"
      ]
    },
    {
      "cell_type": "markdown",
      "metadata": {
        "id": "GDGLNR7dVNaJ"
      },
      "source": [
        "**c) What is the probability that the bottle filled between 470 ml to 525 ml?**"
      ]
    },
    {
      "cell_type": "code",
      "execution_count": 28,
      "metadata": {
        "id": "_uPKpbvtVNaK",
        "colab": {
          "base_uri": "https://localhost:8080/"
        },
        "outputId": "49d04858-42fe-44d2-eb1f-50e608003f5b"
      },
      "outputs": [
        {
          "output_type": "stream",
          "name": "stdout",
          "text": [
            "0.8275\n"
          ]
        }
      ],
      "source": [
        "print(\"{:.4f}\".format(stats.norm.cdf(525,500,20)-stats.norm.cdf(470,500,20)))"
      ]
    },
    {
      "cell_type": "markdown",
      "metadata": {
        "id": "7WFVLPL-VNaM"
      },
      "source": [
        "### **3) In 2 Liter soft drink bottles the drink filled is normally distributed, with a mean of 2.0 liters and a standard deviation of 0.05 liter. If the bottles contain less than 95% of the listed net content(1.90 liters),  the manufacturer may be subject to penalty by the state office of consumer affairs. Bottles that have a net content above 2.1 liters may cause excess spillage upon opening. Answer the following questions:**"
      ]
    },
    {
      "cell_type": "markdown",
      "metadata": {
        "id": "KJh8EodMVNaM"
      },
      "source": [
        "**a) What is the probability that the bottle content is between 1.9 and 2.0 liters?**"
      ]
    },
    {
      "cell_type": "code",
      "execution_count": 29,
      "metadata": {
        "id": "WfcWl231VNaM",
        "colab": {
          "base_uri": "https://localhost:8080/"
        },
        "outputId": "2aa9de25-6e16-4a7a-febe-b661eb3896e1"
      },
      "outputs": [
        {
          "output_type": "stream",
          "name": "stdout",
          "text": [
            "0.4772\n"
          ]
        }
      ],
      "source": [
        "print(\"{:.4f}\".format(stats.norm.cdf(2.0,2.0,0.05)-stats.norm.cdf(1.9,2.0,0.05)))"
      ]
    },
    {
      "cell_type": "markdown",
      "metadata": {
        "id": "hZhrsYtoVNaN"
      },
      "source": [
        "**b)  What is the probability that the bottle content is between 1.9 and 2.1 liters?**"
      ]
    },
    {
      "cell_type": "code",
      "execution_count": 30,
      "metadata": {
        "id": "wbnjjf0aVNaN",
        "colab": {
          "base_uri": "https://localhost:8080/"
        },
        "outputId": "dce6d3ef-5de3-411a-af63-f620b512e938"
      },
      "outputs": [
        {
          "output_type": "stream",
          "name": "stdout",
          "text": [
            "0.9545\n"
          ]
        }
      ],
      "source": [
        "print(\"{:.4f}\".format(stats.norm.cdf(2.1,2.0,0.05)-stats.norm.cdf(1.9,2.0,0.05)))"
      ]
    },
    {
      "cell_type": "markdown",
      "metadata": {
        "id": "H6fG71TVVNaN"
      },
      "source": [
        "**c) What is the probability that the bottle content is below 1.9 liters or above 2.1 liters?**"
      ]
    },
    {
      "cell_type": "code",
      "execution_count": 31,
      "metadata": {
        "id": "1Z6O0xxHVNaO",
        "colab": {
          "base_uri": "https://localhost:8080/"
        },
        "outputId": "68dda130-dff9-4112-a84c-5eb7da6a89d2"
      },
      "outputs": [
        {
          "output_type": "stream",
          "name": "stdout",
          "text": [
            "0.0455\n"
          ]
        }
      ],
      "source": [
        "print(\"{:.4f}\".format(stats.norm.cdf(1.9,2.0,0.05)+1-stats.norm.cdf(2.1,2.0,0.05)))"
      ]
    },
    {
      "cell_type": "markdown",
      "metadata": {
        "id": "Qc1CMY6PVNaO"
      },
      "source": [
        "**d) 99% of the bottles atleast have how much soft drink in them?**"
      ]
    },
    {
      "cell_type": "code",
      "execution_count": 37,
      "metadata": {
        "id": "vhoVgTxBVNaO",
        "colab": {
          "base_uri": "https://localhost:8080/"
        },
        "outputId": "fda327d4-faca-4e03-d650-77507ff6f8c3"
      },
      "outputs": [
        {
          "output_type": "stream",
          "name": "stdout",
          "text": [
            "1.8837\n"
          ]
        }
      ],
      "source": [
        "print(\"{:.4f}\".format(stats.norm.ppf(0.01,2.0,0.05)))"
      ]
    },
    {
      "cell_type": "markdown",
      "metadata": {
        "id": "cfuKFTnCDTeA"
      },
      "source": [
        "# **Sampling Distribution**"
      ]
    },
    {
      "cell_type": "markdown",
      "metadata": {
        "id": "azEQu4DoC_Q5"
      },
      "source": [
        "### 1) **Suppose an automobile battery manufacturer claims that the mean lifetime of their battery is 60 months with a standard deviation of 6 months. Suppose the distribution of battery lives of is approximately normal. Find the probability that the mean lifetime of 40 randomly sampled batteries will be less than 58 months.**"
      ]
    },
    {
      "cell_type": "code",
      "execution_count": 39,
      "metadata": {
        "id": "AiWFb0LCC9Wp",
        "colab": {
          "base_uri": "https://localhost:8080/"
        },
        "outputId": "e19a0548-89fb-45e5-9b1f-84d664efa835"
      },
      "outputs": [
        {
          "output_type": "stream",
          "name": "stdout",
          "text": [
            "0.0175\n"
          ]
        }
      ],
      "source": [
        "print(\"{:.4f}\".format(stats.norm.cdf(58,60,6/np.sqrt(40))))"
      ]
    },
    {
      "cell_type": "markdown",
      "metadata": {
        "id": "1TFwIVHqBR8O"
      },
      "source": [
        "# **Interval Estimation**"
      ]
    },
    {
      "cell_type": "markdown",
      "metadata": {
        "id": "hyfZcgYs_LMD"
      },
      "source": [
        "### **1) A random sample of 40 households was selected as part of a study on electricity usage, and the number of kilowatt-hours (kWh) was recorded for each household in the sample for the March quarter of 2020. The average usage was found to be 310kWh. In a very large study in the March quarter of the previous year it was found that the standard deviation of the usage was 89kWh.**\n",
        "\n",
        "### **Assuming the standard deviation is unchanged and that the usage is normally distributed, provide an expression for calculating a 95% confidence interval for the mean usage in the March quarter of 2019.**\n",
        "\n"
      ]
    },
    {
      "cell_type": "code",
      "execution_count": 42,
      "metadata": {
        "id": "uyAHorce_KaM",
        "colab": {
          "base_uri": "https://localhost:8080/"
        },
        "outputId": "62f3a2a8-bea7-4186-e8d1-014fe7fa2ecf"
      },
      "outputs": [
        {
          "output_type": "stream",
          "name": "stdout",
          "text": [
            "The 95% confidence interval for the mean usage in the March quarter 2019 is between 282.4191 and 337.5809\n"
          ]
        }
      ],
      "source": [
        "print(\"The 95% confidence interval for the mean usage in the March quarter 2019 is between {:.4f} and {:.4f}\".format(stats.norm.interval(0.95,310,89/np.sqrt(40))[0],stats.norm.interval(0.95,310,89/np.sqrt(40))[1]))"
      ]
    },
    {
      "cell_type": "code",
      "source": [],
      "metadata": {
        "id": "t89Ra-8rb6ea"
      },
      "execution_count": null,
      "outputs": []
    }
  ],
  "metadata": {
    "colab": {
      "collapsed_sections": [
        "g7pg-lWiVNZx",
        "l46Ul-hMd7DD"
      ],
      "provenance": []
    },
    "kernelspec": {
      "display_name": "Python 3",
      "language": "python",
      "name": "python3"
    },
    "language_info": {
      "codemirror_mode": {
        "name": "ipython",
        "version": 3
      },
      "file_extension": ".py",
      "mimetype": "text/x-python",
      "name": "python",
      "nbconvert_exporter": "python",
      "pygments_lexer": "ipython3",
      "version": "3.8.5"
    }
  },
  "nbformat": 4,
  "nbformat_minor": 0
}