{
  "cells": [
    {
      "cell_type": "markdown",
      "metadata": {
        "id": "YldLJQ2qCPtr"
      },
      "source": [
        "### Importing the necessary libraries"
      ]
    },
    {
      "cell_type": "code",
      "execution_count": 1,
      "metadata": {
        "id": "GDNBXOC0CPtx"
      },
      "outputs": [],
      "source": [
        "import numpy as np\n",
        "import pandas as pd\n",
        "import matplotlib.pyplot as plt\n",
        "import scipy.stats as stats"
      ]
    },
    {
      "cell_type": "markdown",
      "metadata": {
        "id": "xvO08jLgCPt0"
      },
      "source": [
        "# 1. You are a manager of a Chinese restaurant. You want to determine whether the mean waiting time to place an order has changed in the past month from its previous population mean value of 4.5 minutes. State the null and alternative hypotheses."
      ]
    },
    {
      "cell_type": "markdown",
      "source": [
        "Null Hypothesis - mean time remains the same - 4.5\n",
        ">$H_0: μ = 4.5$\n",
        "\n",
        "Alternative Hypothesis - mean time changed\n",
        ">$H_a: μ \\neq 4.5$"
      ],
      "metadata": {
        "id": "tDvLJqHqE1yG"
      }
    },
    {
      "cell_type": "markdown",
      "metadata": {
        "id": "bjXof431CPt3"
      },
      "source": [
        "# 2. What is the p-value if, in a two-tailed hypothesis test, z-stat = +2.00?"
      ]
    },
    {
      "cell_type": "code",
      "execution_count": 6,
      "metadata": {
        "id": "2G8H_0vOCPt4",
        "outputId": "a66f7e0a-cd32-4f7b-b7a2-8c7e4296ebba",
        "colab": {
          "base_uri": "https://localhost:8080/"
        }
      },
      "outputs": [
        {
          "output_type": "stream",
          "name": "stdout",
          "text": [
            "0.04550026389635842\n"
          ]
        }
      ],
      "source": [
        "#since this is a 2-tailed test - we need to multiply by 2\n",
        "print(2*(1-stats.norm.cdf(2)))"
      ]
    },
    {
      "cell_type": "markdown",
      "metadata": {
        "id": "5Tu2vnQzCPt5"
      },
      "source": [
        "# 3. Samy, Product Manager of K2 Jeans, wants to launch a product line into a new market area. A Survey of a random sample of 400 households in that market showed a mean income per household of 30000 rupees. The standard deviation based on an earlier pilot study of households is 8000 rupees. Samy strongly believes the product line will be adequately profitable only in markets where the mean household income is greater than 29000 rupees. Samy wants our help in deciding whether the product line should be introduced in the new market. Perform statistical analysis and based on that draw a conclusion."
      ]
    },
    {
      "cell_type": "markdown",
      "source": [
        "We need to understand whether the mean of the population is more than 29000 rupees or not.\n",
        "Since we know the standard variation of the population - this is a one sample Z-test\n",
        "\n",
        "Suggesting the following hypotheses:\n",
        "\n",
        ">$H_0: \\mu ≤ 29000$\n",
        "\n",
        ">$H_a: \\mu > 29000$"
      ],
      "metadata": {
        "id": "GlVpCa-OIKtb"
      }
    },
    {
      "cell_type": "code",
      "execution_count": 8,
      "metadata": {
        "id": "7OY_myfoCPt5",
        "outputId": "be7af5c7-52ff-4e83-ea99-41ec628a980c",
        "colab": {
          "base_uri": "https://localhost:8080/"
        }
      },
      "outputs": [
        {
          "output_type": "stream",
          "name": "stdout",
          "text": [
            "2.5\n"
          ]
        }
      ],
      "source": [
        "# set the values of population mean and standard deviation\n",
        "mu, sigma = 29000, 8000\n",
        "\n",
        "# set the value sample mean to 30000\n",
        "x_bar = 30000\n",
        "\n",
        "# calculate the test statistic\n",
        "test_stat = (x_bar - mu) / (sigma/np.sqrt(400))\n",
        "print(test_stat)"
      ]
    },
    {
      "cell_type": "code",
      "source": [
        "#calculating the p-value for the statistic\n",
        "print(1-stats.norm.cdf(2.5))"
      ],
      "metadata": {
        "id": "naTjkzQsJ4lp",
        "outputId": "a5ff9b2d-8188-446c-c012-c3c02ede6b6d",
        "colab": {
          "base_uri": "https://localhost:8080/"
        }
      },
      "execution_count": 11,
      "outputs": [
        {
          "output_type": "stream",
          "name": "stdout",
          "text": [
            "0.006209665325776159\n"
          ]
        }
      ]
    },
    {
      "cell_type": "markdown",
      "source": [
        "Assuming the significance value is 0.05 - the p-value is much less, which means that we reject the Null Hypothesis, and conclude that the mean household income in the new market area is more than 29000 and the product can be launched"
      ],
      "metadata": {
        "id": "fv4Nv03bKSzm"
      }
    },
    {
      "cell_type": "markdown",
      "metadata": {
        "_cell_guid": "9b9566bb-e9b5-4b48-9b45-0194167d2b2b",
        "_uuid": "6256e72b89e829fc8583163418120a3e50aaa156",
        "id": "euOWOovJE43G"
      },
      "source": [
        "# 4. One-sample t-test\n",
        "\n",
        "The mass of a sample of N = 20 acorns from a forest subjected to acid rain from a coal power plant are m = [8.8, 6.6, 9.5, 11.2, 10.2, 7.4, 8.0, 9.6, 9.9, 9.0, 7.6, 7.4, 10.4, 11.1, 8.5, 10.0, 11.6, 10.7, 10.3, and 7.0 g. ]\n",
        "\n",
        "Is this sample provide enough evidence (alpha = 0.05) to say that the average mass of all acorns is different from 10 g?"
      ]
    },
    {
      "cell_type": "markdown",
      "metadata": {
        "id": "3KaIhiAtCPt8"
      },
      "source": [
        "**a) Formulate the null and alternate hypothesis**"
      ]
    },
    {
      "cell_type": "markdown",
      "source": [
        "Null hypothesis - average mass of all the acorns is 10 g\n",
        "\n",
        ">$H_0: \\mu = 10$\n",
        "\n",
        "Alternative - average mass differs from 10g\n",
        "\n",
        ">$H_a: \\mu \\neq 10$"
      ],
      "metadata": {
        "id": "p1s6wIOVT3_K"
      }
    },
    {
      "cell_type": "markdown",
      "metadata": {
        "id": "g9j6e3dOCPt9"
      },
      "source": [
        "**b) Calculate the test-statistic and based on the p-value provide a conclusion.**"
      ]
    },
    {
      "cell_type": "code",
      "execution_count": 17,
      "metadata": {
        "id": "BRD6sjP4CPt9"
      },
      "outputs": [],
      "source": [
        "masses=pd.DataFrame(  [8.8, 6.6, 9.5, 11.2, 10.2, 7.4, 8.0, 9.6, 9.9, 9.0, 7.6, 7.4, 10.4, 11.1, 8.5, 10.0, 11.6, 10.7, 10.3,7.0])"
      ]
    },
    {
      "cell_type": "code",
      "source": [
        "# calculate the test statistic and p-value\n",
        "test_stat, p_value = stats.ttest_1samp(masses, popmean = 10, alternative = 'two-sided')\n",
        "print('The p-value is ', p_value)"
      ],
      "metadata": {
        "id": "uXk0w-FOURIc",
        "outputId": "75c3e793-066d-46e6-fe4f-0356bcdb136f",
        "colab": {
          "base_uri": "https://localhost:8080/"
        }
      },
      "execution_count": 20,
      "outputs": [
        {
          "output_type": "stream",
          "name": "stdout",
          "text": [
            "The p-value is  [0.03655562]\n"
          ]
        }
      ]
    },
    {
      "cell_type": "markdown",
      "source": [
        "The p-value is a bit less than the alpha value, so we have to reject the null hypothesis - the average mass of the population of acorns is different"
      ],
      "metadata": {
        "id": "or1TTVVtVQvr"
      }
    },
    {
      "cell_type": "markdown",
      "metadata": {
        "_cell_guid": "fd17fd23-4f92-403e-aada-0b61433b22e9",
        "_uuid": "948240552a9daac38010e7ec652d02adbdfab6f7",
        "id": "ulAnmKcwE43M"
      },
      "source": [
        "# 5. Independent (unpaired) two-sample t-test\n",
        "\n",
        "The mass of N<sub>1</sub> = 20 acorns from oak trees up wind from a coal power plant and N<sub>2</sub> = 30 acorns from oak trees down wind from the same coal power plant are measured. Is the mass of acorns from trees down wind different from the ones from up wind at a significance level of 0.05? The sample sizes are not equal but we will assume that the population variance of sample 1 and sample 2 are equal.\n",
        "\n",
        "#### sample up wind:\n",
        "x1 = [10.8, 10.0, 8.2, 9.9, 11.6, 10.1, 11.3, 10.3, 10.7, 9.7,\n",
        "      7.8, 9.6, 9.7, 11.6, 10.3, 9.8, 12.3, 11.0, 10.4, 10.4]\n",
        "\n",
        "#### sample down wind:\n",
        "x2 = [7.8, 7.5, 9.5, 11.7, 8.1, 8.8, 8.8, 7.7, 9.7, 7.0,\n",
        "      9.0, 9.7, 11.3, 8.7, 8.8, 10.9, 10.3, 9.6, 8.4, 6.6,\n",
        "      7.2, 7.6, 11.5, 6.6, 8.6, 10.5, 8.4, 8.5, 10.2, 9.2]"
      ]
    },
    {
      "cell_type": "markdown",
      "metadata": {
        "id": "1K03bVMACPt_"
      },
      "source": [
        "**a) Formulate the null and alternate hypothesis.**"
      ]
    },
    {
      "cell_type": "markdown",
      "source": [
        "Let $\\mu_1, \\mu_2$ be the average mass of $N_1$ and $N_2$ respectivily\n",
        "\n",
        "We will test the null hypothesis\n",
        "\n",
        ">$H_0:\\mu_1=\\mu_2$\n",
        "\n",
        "against the alternate hypothesis\n",
        "\n",
        ">$H_a:\\mu_1\\neq\\mu_2$"
      ],
      "metadata": {
        "id": "YxkzOtqpWLu3"
      }
    },
    {
      "cell_type": "markdown",
      "metadata": {
        "id": "JHxWqWE0CPuA"
      },
      "source": [
        "**b) Calculate the test-statistic and based on the p-value provide a conclusion.**"
      ]
    },
    {
      "cell_type": "code",
      "execution_count": 24,
      "metadata": {
        "id": "RL012u_FCPuB",
        "outputId": "93f1054b-4071-41d7-de33-a6f8c4164002",
        "colab": {
          "base_uri": "https://localhost:8080/"
        }
      },
      "outputs": [
        {
          "output_type": "stream",
          "name": "stdout",
          "text": [
            "tstats =  3.5981947686898033 , p_value =  0.0007560337478801464\n"
          ]
        }
      ],
      "source": [
        "# sample up wind\n",
        "x1 = [10.8, 10.0, 8.2, 9.9, 11.6, 10.1, 11.3, 10.3, 10.7, 9.7,\n",
        "      7.8, 9.6, 9.7, 11.6, 10.3, 9.8, 12.3, 11.0, 10.4, 10.4]\n",
        "\n",
        "# sample down wind\n",
        "x2 = [7.8, 7.5, 9.5, 11.7, 8.1, 8.8, 8.8, 7.7, 9.7, 7.0,\n",
        "      9.0, 9.7, 11.3, 8.7, 8.8, 10.9, 10.3, 9.6, 8.4, 6.6,\n",
        "      7.2, 7.6, 11.5, 6.6, 8.6, 10.5, 8.4, 8.5, 10.2, 9.2]\n",
        "\n",
        "\n",
        "t, p_value = stats.ttest_ind(x1, x2)\n",
        "print(\"tstats = \",t, \", p_value = \", p_value)"
      ]
    },
    {
      "cell_type": "markdown",
      "source": [
        "p-value is much less than the significance value - so we reject the null hypothesis and conclude that the average mass of acrons up wind and down wind is different"
      ],
      "metadata": {
        "id": "PXJGeB1GYCHd"
      }
    },
    {
      "cell_type": "markdown",
      "metadata": {
        "_cell_guid": "9b5d97b5-9c0c-4a45-b333-36d3bdeecdcc",
        "_uuid": "8520e337989f942369ad861e6aebece17394efe3",
        "collapsed": true,
        "id": "1qEyYs3GE43P"
      },
      "source": [
        "# 6. Paired samples t-test\n",
        "\n",
        "The average mass of acorns from the same N = 30 trees downwind of a power plant is measured before (x<sub>1</sub>) and after (x<sub>2</sub>) the power plant converts from burning coal to burning natural gas. Does the mass of the acorns change after the conversion from coal to natural gas at a significance level of 0.05?\n",
        "\n",
        "### sample before conversion to natural gas\n",
        "x1 = np.array([10.8, 6.4, 8.3, 7.6, 11.4, 9.9, 10.6, 8.7, 8.1, 10.9,\n",
        "      11.0, 11.8, 7.3, 9.6, 9.3, 9.9, 9.0, 9.5, 10.6, 10.3,\n",
        "      8.8, 12.3, 8.9, 10.5, 11.6, 7.6, 8.9, 10.4, 10.2, 8.8])\n",
        "\n",
        "### sample after conversion to natural gas\n",
        "x2 = np.array([10.1, 6.9, 8.6, 8.8, 12.1, 11.3, 12.4, 9.3, 9.3, 10.8,\n",
        "      12.4, 11.5, 7.4, 10.0, 11.1, 10.6, 9.4, 9.5, 10.0, 10.0,\n",
        "      9.7, 13.5, 9.6, 11.6, 11.7, 7.9, 8.6, 10.8, 9.5, 9.6])\n"
      ]
    },
    {
      "cell_type": "markdown",
      "metadata": {
        "id": "4bVwECXzCPuC"
      },
      "source": [
        "**a) Formulate the null and alternate hypothesis.**"
      ]
    },
    {
      "cell_type": "markdown",
      "source": [
        "Null hypothesys - The average mass of the acorns before and after the conversion stayed the same\n",
        ">$H_0: μ1=μ2$\n",
        "\n",
        "Alternative - the average mass before and after is different\n",
        "\n",
        ">$H_1: μ1≠μ2$"
      ],
      "metadata": {
        "id": "ZssT62TRZXQd"
      }
    },
    {
      "cell_type": "markdown",
      "metadata": {
        "id": "hGm-BIcxCPuD"
      },
      "source": [
        "**b) Calculate the test-statistic and based on the p-value provide a conclusion.**"
      ]
    },
    {
      "cell_type": "code",
      "execution_count": 25,
      "metadata": {
        "id": "VHdQIhzRCPuE",
        "outputId": "0570e8ba-1673-423e-ea2e-fc1d3b1f7325",
        "colab": {
          "base_uri": "https://localhost:8080/"
        }
      },
      "outputs": [
        {
          "output_type": "stream",
          "name": "stdout",
          "text": [
            "tstats =  -3.905439081326491 , p-value =  0.0005168689824684378\n"
          ]
        }
      ],
      "source": [
        "# sample before conversion to natural gas\n",
        "x1 = np.array([10.8, 6.4, 8.3, 7.6, 11.4, 9.9, 10.6, 8.7, 8.1, 10.9,\n",
        "      11.0, 11.8, 7.3, 9.6, 9.3, 9.9, 9.0, 9.5, 10.6, 10.3,\n",
        "      8.8, 12.3, 8.9, 10.5, 11.6, 7.6, 8.9, 10.4, 10.2, 8.8])\n",
        "# sample after conversion to natural gas\n",
        "x2 = np.array([10.1, 6.9, 8.6, 8.8, 12.1, 11.3, 12.4, 9.3, 9.3, 10.8,\n",
        "      12.4, 11.5, 7.4, 10.0, 11.1, 10.6, 9.4, 9.5, 10.0, 10.0,\n",
        "      9.7, 13.5, 9.6, 11.6, 11.7, 7.9, 8.6, 10.8, 9.5, 9.6])\n",
        "\n",
        "\n",
        "t, p = stats.ttest_rel(x1, x2)\n",
        "print(\"tstats = \", t, \", p-value = \", p)"
      ]
    },
    {
      "cell_type": "markdown",
      "source": [
        "p-value is less than the significance value, thus we reject the null hypothesis - the average mass changed after the conversion"
      ],
      "metadata": {
        "id": "g0sAMgYdZyDI"
      }
    },
    {
      "cell_type": "code",
      "source": [],
      "metadata": {
        "id": "QGzmN_u1Z9xt"
      },
      "execution_count": null,
      "outputs": []
    }
  ],
  "metadata": {
    "kernelspec": {
      "display_name": "Python 3",
      "language": "python",
      "name": "python3"
    },
    "language_info": {
      "codemirror_mode": {
        "name": "ipython",
        "version": 3
      },
      "file_extension": ".py",
      "mimetype": "text/x-python",
      "name": "python",
      "nbconvert_exporter": "python",
      "pygments_lexer": "ipython3",
      "version": "3.8.5"
    },
    "colab": {
      "provenance": []
    }
  },
  "nbformat": 4,
  "nbformat_minor": 0
}